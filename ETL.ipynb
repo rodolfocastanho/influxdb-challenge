{
 "cells": [
  {
   "cell_type": "markdown",
   "id": "1776dadb",
   "metadata": {},
   "source": [
    "# InfluxDB Challenge\n",
    "\n",
    "https://www.influxdata.com/influxdb-challenge/"
   ]
  },
  {
   "cell_type": "markdown",
   "id": "31dbc82c",
   "metadata": {},
   "source": [
    "## Climate Weather Surface of Brazil - Hourly\n",
    "\n",
    "Hourly Climate data from São Paulo during 2021, March\n",
    "\n",
    "https://www.kaggle.com/datasets/PROPPG-PPG/hourly-weather-surface-brazil-southeast-region?select=southeast.csv"
   ]
  },
  {
   "cell_type": "code",
   "execution_count": null,
   "id": "909937b7",
   "metadata": {},
   "outputs": [],
   "source": [
    "import os\n",
    "import kaggle\n",
    "from zipfile import ZipFile\n",
    "import pandas as pd\n",
    "from datetime import datetime\n",
    "\n",
    "import influxdb_client, os, time\n",
    "from influxdb_client import InfluxDBClient, Point, WritePrecision\n",
    "from influxdb_client.client.write_api import SYNCHRONOUS"
   ]
  },
  {
   "cell_type": "code",
   "execution_count": null,
   "id": "da46473a",
   "metadata": {},
   "outputs": [],
   "source": [
    "\"\"\"\n",
    "---Define variables below using your prefered method---\n",
    "os.environ['KAGGLE_USERNAME'] = ''\n",
    "os.environ['KAGGLE_KEY'] = ''\n",
    "\"\"\"\n",
    "\n",
    "token = os.environ.get('INFLUXDB_TOKEN')\n",
    "org = os.environ.get('INFLUXDB_ORG')\n",
    "url = os.environ.get('INFLUXDB_URL')\n",
    "bucket = os.environ.get('INFLUXDB_BUCKET')\n",
    "\n",
    "filename =\"southeast.csv\""
   ]
  },
  {
   "cell_type": "code",
   "execution_count": null,
   "id": "5087deda",
   "metadata": {},
   "outputs": [],
   "source": [
    "!kaggle datasets download -f southeast.csv PROPPG-PPG/hourly-weather-surface-brazil-southeast-region"
   ]
  },
  {
   "cell_type": "code",
   "execution_count": null,
   "id": "0413f4c1",
   "metadata": {},
   "outputs": [],
   "source": [
    "from zipfile import ZipFile\n",
    "with ZipFile(filename+'.zip', 'r') as zipObj:\n",
    "    zipObj.extractall()"
   ]
  },
  {
   "cell_type": "code",
   "execution_count": null,
   "id": "45d8a05c",
   "metadata": {},
   "outputs": [],
   "source": [
    "df_weather_brazil_southeast = pd.read_csv(filename)\n",
    "\n",
    "df_weather_brazil_southeast['datetime'] = pd.to_datetime(df_weather_brazil_southeast.Data.astype(str) + ' ' +df_weather_brazil_southeast.Hora.astype(str))\n",
    "df_weather_brazil_southeast['temperature(°C)'] = df_weather_brazil_southeast['TEMPERATURA DO AR - BULBO SECO, HORARIA (°C)']\n",
    "df_weather_brazil_southeast['humidity(%)'] = df_weather_brazil_southeast['UMIDADE RELATIVA DO AR, HORARIA (%)']\n",
    "\n",
    "df_weather_brazil_southeast = df_weather_brazil_southeast[['datetime', \n",
    "                                                           'temperature(°C)', \n",
    "                                                           'humidity(%)', \n",
    "                                                           'region', \n",
    "                                                           'state', \n",
    "                                                           'station_code'\n",
    "                                                          ]]\n",
    "\n",
    "# arbitrary filter due the most cold register in Brazil-Southeast was -9.7 ºC\n",
    "df_weather_brazil_southeast = df_weather_brazil_southeast[\n",
    "    # arbitrary filter due the most cold register in Brazil-Southeast was -9.7 ºC\n",
    "    (df_weather_brazil_southeast['temperature(°C)'] > -10.0) & \n",
    "    (df_weather_brazil_southeast['temperature(°C)'] != -9999.0) & \n",
    "    (df_weather_brazil_southeast['humidity(%)'] != -9999.0) & \n",
    "    (df_weather_brazil_southeast['datetime'] >= '2021-03-01 00:00:00') &\n",
    "    (df_weather_brazil_southeast['datetime'] <= '2021-03-31 23:59:59') &\n",
    "    (df_weather_brazil_southeast['state'] == 'SP')\n",
    "]"
   ]
  },
  {
   "cell_type": "code",
   "execution_count": null,
   "id": "f54d542b",
   "metadata": {},
   "outputs": [],
   "source": [
    "measurements = df_weather_brazil_southeast.to_dict('records')"
   ]
  },
  {
   "cell_type": "code",
   "execution_count": null,
   "id": "21363a02",
   "metadata": {},
   "outputs": [],
   "source": [
    "client = influxdb_client.InfluxDBClient(url=url, token=token, org=org)\n",
    "write_api = client.write_api(write_options=SYNCHRONOUS)"
   ]
  },
  {
   "cell_type": "code",
   "execution_count": null,
   "id": "5c357c04",
   "metadata": {},
   "outputs": [],
   "source": [
    "%%time\n",
    "for measure in measurements:\n",
    "    point = (\n",
    "        Point('weatherBrazil')\n",
    "        .tag('region', measure['region'])\n",
    "        .tag('state', measure['state'])\n",
    "        .tag('station_code', measure['station_code'])\n",
    "        .field('temperature(°C)', measure['temperature(°C)'])\n",
    "        .field('humidity(%)', measure['humidity(%)'])\n",
    "        # (Obs: The year-month was changed to 2022-September because Buckets in Cloud retain 30 days)\n",
    "        .time(measure['datetime'].replace(year=2022, month=9).strftime('%Y-%m-%dT%H:%M:%SZ'))\n",
    "    )\n",
    "    write_api.write(bucket=bucket, org=org, record=point)"
   ]
  },
  {
   "cell_type": "code",
   "execution_count": null,
   "id": "1bf08790",
   "metadata": {},
   "outputs": [],
   "source": []
  }
 ],
 "metadata": {
  "kernelspec": {
   "display_name": "Python 3 (ipykernel)",
   "language": "python",
   "name": "python3"
  },
  "language_info": {
   "codemirror_mode": {
    "name": "ipython",
    "version": 3
   },
   "file_extension": ".py",
   "mimetype": "text/x-python",
   "name": "python",
   "nbconvert_exporter": "python",
   "pygments_lexer": "ipython3",
   "version": "3.10.5"
  }
 },
 "nbformat": 4,
 "nbformat_minor": 5
}
