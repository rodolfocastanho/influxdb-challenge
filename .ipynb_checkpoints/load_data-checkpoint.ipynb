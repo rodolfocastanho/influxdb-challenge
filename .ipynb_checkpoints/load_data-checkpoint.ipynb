{
 "cells": [
  {
   "cell_type": "markdown",
   "id": "bd4c02a6",
   "metadata": {},
   "source": [
    "# InfluxDB Challenge\n",
    "\n",
    "https://www.influxdata.com/influxdb-challenge/"
   ]
  },
  {
   "cell_type": "markdown",
   "id": "9ca0cbf3",
   "metadata": {},
   "source": [
    "### Initialize Influx client"
   ]
  },
  {
   "cell_type": "code",
   "execution_count": 1,
   "id": "c63dbb52",
   "metadata": {},
   "outputs": [],
   "source": [
    "import os\n",
    "import influxdb_client, os, time\n",
    "from influxdb_client import InfluxDBClient, Point, WritePrecision\n",
    "from influxdb_client.client.write_api import SYNCHRONOUS"
   ]
  },
  {
   "cell_type": "code",
   "execution_count": 3,
   "id": "e40da7c0",
   "metadata": {},
   "outputs": [],
   "source": [
    "os.environ['INFLUXDB_TOKEN'] = 'aqJh0_k3fz1XbU53G0dz0fCbGyd7Rz7l14pzaHwOlDfPJJp_57-mNIYJdhN-pKyyZZCAcPz1My9YPajXEQR3zg=='\n",
    "os.environ['INFLUXDB_ORG'] = \"rodolfocastanho@gmail.com\"\n",
    "os.environ['INFLUXDB_URL'] = \"https://eastus-1.azure.cloud2.influxdata.com\"\n",
    "os.environ['INFLUXDB_BUCKET'] = \"challenge\""
   ]
  },
  {
   "cell_type": "code",
   "execution_count": null,
   "id": "ce0e196c",
   "metadata": {},
   "outputs": [],
   "source": [
    "token = os.environ.get('INFLUXDB_TOKEN')\n",
    "org = os.environ.get('INFLUXDB_ORG')\n",
    "url = os.environ.get('INFLUXDB_URL')\n",
    "bucket = os.environ.get('INFLUXDB_BUCKET')"
   ]
  },
  {
   "cell_type": "markdown",
   "id": "2d435f59",
   "metadata": {},
   "source": [
    "### Read Data\n",
    "\n",
    "https://github.com/rishabh89007/Time_Series_Datasets\n",
    "\n",
    "Dataset U.S. nuclear capacity, daily (‘Nuclear Capacity.csv’)"
   ]
  },
  {
   "cell_type": "code",
   "execution_count": null,
   "id": "29b115d3",
   "metadata": {},
   "outputs": [],
   "source": [
    "import csv\n",
    "import datetime"
   ]
  },
  {
   "cell_type": "code",
   "execution_count": null,
   "id": "fbefc12f",
   "metadata": {},
   "outputs": [],
   "source": [
    "def split_data(d):\n",
    "    l = d.split(' ')\n",
    "    year = int(l[0])\n",
    "    month = int(l[1][:2])\n",
    "    day = int(l[2])\n",
    "    return datetime.datetime(year, month, day).strftime('%Y-%m-%dT%H:%M:%SZ')"
   ]
  },
  {
   "cell_type": "code",
   "execution_count": null,
   "id": "d02271fd",
   "metadata": {},
   "outputs": [],
   "source": [
    "filename =\"Nuclear Capacity.csv\""
   ]
  },
  {
   "cell_type": "markdown",
   "id": "0af8ace7",
   "metadata": {},
   "source": [
    "line example using csv.reader:\n",
    "\n",
    "['2007 0101 01', '101764.9']"
   ]
  },
  {
   "cell_type": "code",
   "execution_count": null,
   "id": "6bb17485",
   "metadata": {},
   "outputs": [],
   "source": [
    "client = influxdb_client.InfluxDBClient(url=url, token=token, org=org)\n",
    "write_api = client.write_api(write_options=SYNCHRONOUS)\n",
    "\n",
    "with open(filename, 'r') as data:\n",
    "    for line in csv.reader(data):\n",
    "        #print(line, split_data(line[0]), type(split_data(line[0])))\n",
    "        point = (\n",
    "            Point(\"nuclearCapacity\")\n",
    "            .tag(\"country\", \"US\")\n",
    "            .field(\"capacity\", float(line[1]))\n",
    "            .time(split_data(line[0]))\n",
    "        )\n",
    "        write_api.write(bucket=bucket, org=org, record=point)"
   ]
  },
  {
   "cell_type": "code",
   "execution_count": null,
   "id": "1b57dd3b",
   "metadata": {},
   "outputs": [],
   "source": []
  }
 ],
 "metadata": {
  "kernelspec": {
   "display_name": "Python 3 (ipykernel)",
   "language": "python",
   "name": "python3"
  },
  "language_info": {
   "codemirror_mode": {
    "name": "ipython",
    "version": 3
   },
   "file_extension": ".py",
   "mimetype": "text/x-python",
   "name": "python",
   "nbconvert_exporter": "python",
   "pygments_lexer": "ipython3",
   "version": "3.10.5"
  }
 },
 "nbformat": 4,
 "nbformat_minor": 5
}
